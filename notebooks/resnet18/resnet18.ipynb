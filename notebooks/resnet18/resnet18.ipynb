{
 "cells": [
  {
   "cell_type": "markdown",
   "metadata": {},
   "source": [
    "First, we define the model."
   ]
  },
  {
   "cell_type": "code",
   "execution_count": null,
   "metadata": {},
   "outputs": [],
   "source": [
    "import torchvision\n",
    "\n",
    "model = torchvision.models.resnet18(pretrained=True)\n",
    "model = model.cuda()"
   ]
  },
  {
   "cell_type": "markdown",
   "metadata": {},
   "source": [
    "Next, we create the module visualizer.  It will show the input and output feature maps whenever the model is executed.\n",
    "\n",
    "> right click the cell and select **Create new view for output** to pin to a new window"
   ]
  },
  {
   "cell_type": "code",
   "execution_count": null,
   "metadata": {},
   "outputs": [],
   "source": [
    "from IPython.display import display\n",
    "import ipywidgets\n",
    "from pytorch_module_visualizer import ModuleVisualizer2D\n",
    "\n",
    "conv1 = ModuleVisualizer2D(module=model.conv1)\n",
    "layer1 = ModuleVisualizer2D(module=model.layer1)\n",
    "layer2 = ModuleVisualizer2D(module=model.layer2)\n",
    "layer3 = ModuleVisualizer2D(module=model.layer3)\n",
    "\n",
    "vis = ipywidgets.Tab([conv1, layer1, layer2, layer3])\n",
    "vis.set_title(0, 'conv1')\n",
    "vis.set_title(1, 'layer1')\n",
    "vis.set_title(2, 'layer2')\n",
    "vis.set_title(3, 'layer3')\n",
    "\n",
    "display(vis)"
   ]
  },
  {
   "cell_type": "markdown",
   "metadata": {},
   "source": [
    "Then, we can read and format an example image."
   ]
  },
  {
   "cell_type": "code",
   "execution_count": null,
   "metadata": {},
   "outputs": [],
   "source": [
    "import PIL.Image\n",
    "import torchvision.transforms as transforms\n",
    "\n",
    "# read and format input\n",
    "image = PIL.Image.open('test.png').resize((224, 224)).convert('RGB')\n",
    "\n",
    "transform = transforms.Compose([\n",
    "    transforms.ColorJitter(0.2, 0.2, 0.2, 0.2),\n",
    "    transforms.RandomAffine(degrees=20),\n",
    "    transforms.ToTensor(),\n",
    "    transforms.Normalize([0.485, 0.456, 0.406], [0.229, 0.224, 0.225])\n",
    "])\n"
   ]
  },
  {
   "cell_type": "markdown",
   "metadata": {},
   "source": [
    "And run the model, which will update the visualizer."
   ]
  },
  {
   "cell_type": "code",
   "execution_count": null,
   "metadata": {},
   "outputs": [],
   "source": [
    "import time\n",
    "\n",
    "for i in range(100):\n",
    "    data = transform(image).cuda()[None, ...] # adds batch dimension\n",
    "    output = model(data)\n",
    "    time.sleep(0.1)"
   ]
  }
 ],
 "metadata": {
  "kernelspec": {
   "display_name": "Python 3",
   "language": "python",
   "name": "python3"
  },
  "language_info": {
   "codemirror_mode": {
    "name": "ipython",
    "version": 3
   },
   "file_extension": ".py",
   "mimetype": "text/x-python",
   "name": "python",
   "nbconvert_exporter": "python",
   "pygments_lexer": "ipython3",
   "version": "3.5.2"
  }
 },
 "nbformat": 4,
 "nbformat_minor": 2
}
